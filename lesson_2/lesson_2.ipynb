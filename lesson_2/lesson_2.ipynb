{
  "nbformat": 4,
  "nbformat_minor": 0,
  "metadata": {
    "colab": {
      "name": "lesson_2.ipynb",
      "provenance": []
    },
    "kernelspec": {
      "name": "python3",
      "display_name": "Python 3"
    },
    "language_info": {
      "name": "python"
    }
  },
  "cells": [
    {
      "cell_type": "code",
      "metadata": {
        "colab": {
          "base_uri": "https://localhost:8080/"
        },
        "id": "_dy8ItSAMhT6",
        "outputId": "02e1c02e-c619-4458-ee55-93ee14788e4d"
      },
      "source": [
        "from bs4 import BeautifulSoup as bs\n",
        "import requests\n",
        "import json\n",
        "import csv\n",
        "from pprint import pprint\n",
        "import pandas as pd\n",
        "\n",
        "# https://podolsk.hh.ru/search/vacancy?clusters=true&no_magic=true&\n",
        "# ored_clusters=true&enable_snippets=true&salary=&st=searchVacancy&\n",
        "# text=Python&from=suggest_post\n",
        "\n",
        "\n",
        "def hh_vacancies():\n",
        "    my_vacancy = input('Input your desired vacancy: ')\n",
        "    page_num = 0\n",
        "    while page_num != '':\n",
        "        url = 'https://hh.ru'\n",
        "        params = {\n",
        "            'clusters': 'true',\n",
        "            'no_magic': 'true',\n",
        "            'ored_clusters': 'true',\n",
        "            'enable_snippets': 'true',\n",
        "            'st': 'searchVacancy',\n",
        "            'text': f'{my_vacancy}',\n",
        "            'from': 'suggest_post',\n",
        "            'page': f'{page_num}'\n",
        "        }\n",
        "        headers = {'User-Agent': 'Mozilla/5.0 (Windows NT 10.0; Win64; x64)\\\n",
        "                                  AppleWebKit/537.36 (KHTML, like Gecko)\\\n",
        "                                  Chrome/90.0.4430.93 Safari/537.36'}\n",
        "\n",
        "        response = requests.get(url+'/search/vacancy', params=params, headers=headers)\n",
        "        if response.ok:\n",
        "            soup = bs(response.text, 'html.parser')\n",
        "            vacancies_list = soup.find_all('div', {'class': 'vacancy-serp-item'})\n",
        "\n",
        "            def salary_dev(x):\n",
        "                salary_data = {}  # Словарь для хранения полученных данных\n",
        "                if x != '':\n",
        "                    val = x.split()[-1]  # Извлечение валюты\n",
        "                    num_min = None\n",
        "                    num_max = None\n",
        "\n",
        "                    if '–' in x:  # Извлечение мин и макс зарплаты, если есть оба значения\n",
        "                        num = x.split('–')\n",
        "                        num_min = int((''.join(i for i in num[0] if i.isdigit())))\n",
        "                        num_max = int((''.join(i for i in num[1] if i.isdigit())))\n",
        "                    elif 'от' in x:  # Извлечение мин зарплаты, если есть одно значение\n",
        "                        num_min = int((''.join(i for i in x if i.isdigit())))\n",
        "                    elif 'до' in x:  # Извлечение макс зарплаты, если есть одно значение\n",
        "                        num_max = int((''.join(i for i in x if i.isdigit())))\n",
        "            # Заполнение словаря\n",
        "                    salary_data['min'] = num_min\n",
        "                    salary_data['max'] = num_max\n",
        "                    salary_data['carency'] = val\n",
        "                else:\n",
        "                    salary_data['min'] = None\n",
        "                    salary_data['max'] = None\n",
        "                    salary_data['carency'] = None\n",
        "                return salary_data\n",
        "\n",
        "            vacancies = []\n",
        "            for vacancy in vacancies_list:\n",
        "                vacancy_data = {}\n",
        "                vacancy_info = vacancy.find('a', {'class': 'bloko-link'})\n",
        "                vacancy_name = vacancy_info.getText()\n",
        "                vacancy_url = vacancy_info.get('href')\n",
        "                vacancy_salary = vacancy.find('div', {'class': 'vacancy-serp-item__sidebar'}).getText()\n",
        "                vacancy_salary_dev = salary_dev(vacancy_salary)\n",
        "                site_url = url\n",
        "\n",
        "                vacancy_data['name'] = vacancy_name\n",
        "                vacancy_data['url'] = vacancy_url\n",
        "                vacancy_data['salary'] = vacancy_salary_dev\n",
        "                vacancy_data['site_url'] = site_url\n",
        "\n",
        "                vacancies.append(vacancy_data)\n",
        "\n",
        "            with open('hh_vacancies.csv', 'a', encoding='UTF-8', newline='') as file:\n",
        "                writer = csv.DictWriter(file, fieldnames=vacancies[0])\n",
        "                writer.writeheader()\n",
        "                writer.writerows(vacancies)\n",
        "            \n",
        "            page_num += 1\n",
        "            \n",
        "        else:\n",
        "            break\n",
        "hh_vacancies()"
      ],
      "execution_count": 9,
      "outputs": [
        {
          "output_type": "stream",
          "text": [
            "Input your desired vacancy: python\n"
          ],
          "name": "stdout"
        }
      ]
    },
    {
      "cell_type": "code",
      "metadata": {
        "colab": {
          "base_uri": "https://localhost:8080/",
          "height": 206
        },
        "id": "Ts-gAzBZND_U",
        "outputId": "c2a21283-2c2a-4669-cf45-f1f0b987e363"
      },
      "source": [
        "\n",
        "#print(b)\n",
        "path = 'hh_vacancies.csv'\n",
        "df = pd.read_csv(path)\n",
        "df.head()"
      ],
      "execution_count": 10,
      "outputs": [
        {
          "output_type": "execute_result",
          "data": {
            "text/html": [
              "<div>\n",
              "<style scoped>\n",
              "    .dataframe tbody tr th:only-of-type {\n",
              "        vertical-align: middle;\n",
              "    }\n",
              "\n",
              "    .dataframe tbody tr th {\n",
              "        vertical-align: top;\n",
              "    }\n",
              "\n",
              "    .dataframe thead th {\n",
              "        text-align: right;\n",
              "    }\n",
              "</style>\n",
              "<table border=\"1\" class=\"dataframe\">\n",
              "  <thead>\n",
              "    <tr style=\"text-align: right;\">\n",
              "      <th></th>\n",
              "      <th>name</th>\n",
              "      <th>url</th>\n",
              "      <th>salary</th>\n",
              "      <th>site_url</th>\n",
              "    </tr>\n",
              "  </thead>\n",
              "  <tbody>\n",
              "    <tr>\n",
              "      <th>0</th>\n",
              "      <td>Middle Python/Django Developer (в г. Новосибирск)</td>\n",
              "      <td>https://hh.ru/vacancy/43531154?from=vacancy_se...</td>\n",
              "      <td>{'min': None, 'max': None, 'carency': None}</td>\n",
              "      <td>https://hh.ru</td>\n",
              "    </tr>\n",
              "    <tr>\n",
              "      <th>1</th>\n",
              "      <td>Senior Python Developer</td>\n",
              "      <td>https://hh.ru/vacancy/46423378?from=vacancy_se...</td>\n",
              "      <td>{'min': None, 'max': None, 'carency': None}</td>\n",
              "      <td>https://hh.ru</td>\n",
              "    </tr>\n",
              "    <tr>\n",
              "      <th>2</th>\n",
              "      <td>Full Stack Developer (Python/R, JS/TS)</td>\n",
              "      <td>https://hh.ru/vacancy/46274567?from=vacancy_se...</td>\n",
              "      <td>{'min': None, 'max': None, 'carency': None}</td>\n",
              "      <td>https://hh.ru</td>\n",
              "    </tr>\n",
              "    <tr>\n",
              "      <th>3</th>\n",
              "      <td>Fullstack Python Developer</td>\n",
              "      <td>https://hh.ru/vacancy/46242541?from=vacancy_se...</td>\n",
              "      <td>{'min': None, 'max': None, 'carency': None}</td>\n",
              "      <td>https://hh.ru</td>\n",
              "    </tr>\n",
              "    <tr>\n",
              "      <th>4</th>\n",
              "      <td>Data Analyst/ Data Scientist</td>\n",
              "      <td>https://hh.ru/vacancy/45693700?from=vacancy_se...</td>\n",
              "      <td>{'min': None, 'max': None, 'carency': None}</td>\n",
              "      <td>https://hh.ru</td>\n",
              "    </tr>\n",
              "  </tbody>\n",
              "</table>\n",
              "</div>"
            ],
            "text/plain": [
              "                                                name  ...       site_url\n",
              "0  Middle Python/Django Developer (в г. Новосибирск)  ...  https://hh.ru\n",
              "1                            Senior Python Developer  ...  https://hh.ru\n",
              "2             Full Stack Developer (Python/R, JS/TS)  ...  https://hh.ru\n",
              "3                         Fullstack Python Developer  ...  https://hh.ru\n",
              "4                       Data Analyst/ Data Scientist  ...  https://hh.ru\n",
              "\n",
              "[5 rows x 4 columns]"
            ]
          },
          "metadata": {
            "tags": []
          },
          "execution_count": 10
        }
      ]
    },
    {
      "cell_type": "code",
      "metadata": {
        "colab": {
          "base_uri": "https://localhost:8080/"
        },
        "id": "mbgx3OMrpn8X",
        "outputId": "cca936a1-7070-4597-eb1e-52e5714a739f"
      },
      "source": [
        "df.shape"
      ],
      "execution_count": 12,
      "outputs": [
        {
          "output_type": "execute_result",
          "data": {
            "text/plain": [
              "(860, 4)"
            ]
          },
          "metadata": {
            "tags": []
          },
          "execution_count": 12
        }
      ]
    },
    {
      "cell_type": "code",
      "metadata": {
        "colab": {
          "base_uri": "https://localhost:8080/"
        },
        "id": "2ux1o-uWNoAE",
        "outputId": "9c7ce789-9c95-46e1-cd4d-f76bf4d44f26"
      },
      "source": [
        "df.info()"
      ],
      "execution_count": 11,
      "outputs": [
        {
          "output_type": "stream",
          "text": [
            "<class 'pandas.core.frame.DataFrame'>\n",
            "RangeIndex: 860 entries, 0 to 859\n",
            "Data columns (total 4 columns):\n",
            " #   Column    Non-Null Count  Dtype \n",
            "---  ------    --------------  ----- \n",
            " 0   name      860 non-null    object\n",
            " 1   url       860 non-null    object\n",
            " 2   salary    860 non-null    object\n",
            " 3   site_url  860 non-null    object\n",
            "dtypes: object(4)\n",
            "memory usage: 27.0+ KB\n"
          ],
          "name": "stdout"
        }
      ]
    }
  ]
}